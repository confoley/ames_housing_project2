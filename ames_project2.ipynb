{
 "cells": [
  {
   "cell_type": "markdown",
   "metadata": {},
   "source": [
    "# Ames: Using Housing Data to Predict Price\n",
    "*Connor Foley*, DSI, General Assembly NYC, May 2018\n",
    "\n",
    "---\n",
    "\n",
    "For this project I created a model to predict price based on a dataset on the housing stock of Ames, Iowa, a small midwestern town north of Des Moines that is home to Iowa State University. There were 81 columns with about an even split between categorical data and numerical data. Some of the columns, such as \"Overall Quality,\" could be initially assumed to have a strong correlation with price, while other more obscure qualities such as \"Garage Type\" and \"Masonry Veneer Type\" occupied most of the columns. I only had a limited amount of time to complete this project, so efficiency was critical. My goal was to create a model that accurately predicted price without combing over every minute detail.\n",
    "\n",
    "There was a lot of missing data in the dataset. Some of the columns were overwhelmingly full of NaN values, such as \"Pool QC,\" in which only 9 out of 2051 rows were not NaN values. I decided to drop this column, along with \"Alley\" and \"Misc Feature\" because of the overwhelming percentage of NaN values. In numerical columns, I replaced NaN values with the mean of the column using Impute. In categorical columns, I replaced NaNs with the most frequent value of that column. The reasoning behind this was that in most of the categorical columns there was one overwhelming mode, and filling in missing values with this mode would not alter the data very much. Had I had more time, I would have analyzed the missing values more in an attempt to determine if the values were truly missing or actually meant something else. In order to fill the missing values differently based on numerical vs. categorical data, I separated the DataFrame and then rejoined them using `df.concat()`. In addition to filling missing values, I also modified the \"Year Built\" and \"Year Remod/Add\" columns to reflect the time since the property was built or remodeled, as a year behaves as categorical data despite being an integer.\n",
    "\n",
    "The first step I took to modify my data was to create dummy columns for all of the categorical data, using `drop_first=True`, and dropping the original categorical columns from my DataFrame. I then scaled the data using StandardScaler(). To select my features, I decided to use Lasso to find the ten strongest coefficients right off the bat. I figured that because of the many different variables, from a more qualitative perspective, I should use Lasso to figure out what is important. Like I said, there were variables that seemed to have an obvious predictive value and others that were a bit more trivial, possibly having a strong correlation with price and possibly not. \n",
    "\n",
    "After selecting the ten strongest coefficients, I ran `PolynomialFeatures(interaction_only=True)` on those ten columns, bringing the number of columns up to 55. I scaled this again using StandardScaler(), and then ran Lasso again to account for any overfitting. I figured this two step process of filtering out unncessary variables made sense for this kind of dataset.\n",
    "\n",
    "Scoring on my training data, I got an R squared value of 0.83. For my test data, it decreased slightly to 0.81. Given the time constraints of the project, this was good enough for me. If I had more time, I would have looked at the categorical columns much more closely. Some of the columns I turned into dummy variables could have been reassigned to integers, as the categories were ordinal. Furthermore, the town of Ames is bimodal; there is an older downtown area as well as another centralized area around the campus for Iowa State University. The distinct geography of this town could have had a significant impact on house prices, and it would be worthwhile to look at other midwestern college towns like Madison, Wisconsin. "
   ]
  },
  {
   "cell_type": "code",
   "execution_count": 1,
   "metadata": {},
   "outputs": [],
   "source": [
    "import numpy as np\n",
    "import pandas as pd\n",
    "import patsy\n",
    "\n",
    "from sklearn.linear_model import Ridge, Lasso, ElasticNet, LinearRegression, RidgeCV, LassoCV, ElasticNetCV\n",
    "from sklearn.model_selection import cross_val_score, train_test_split\n",
    "from sklearn.preprocessing import Imputer, StandardScaler, PolynomialFeatures\n",
    "\n",
    "import matplotlib\n",
    "import matplotlib.pyplot as plt\n",
    "import seaborn as sns\n",
    "\n",
    "%matplotlib inline"
   ]
  },
  {
   "cell_type": "markdown",
   "metadata": {},
   "source": [
    "### Load the Data"
   ]
  },
  {
   "cell_type": "code",
   "execution_count": 2,
   "metadata": {},
   "outputs": [],
   "source": [
    "train = pd.read_csv('./train.csv')"
   ]
  },
  {
   "cell_type": "code",
   "execution_count": 3,
   "metadata": {},
   "outputs": [
    {
     "data": {
      "text/html": [
       "<div>\n",
       "<style scoped>\n",
       "    .dataframe tbody tr th:only-of-type {\n",
       "        vertical-align: middle;\n",
       "    }\n",
       "\n",
       "    .dataframe tbody tr th {\n",
       "        vertical-align: top;\n",
       "    }\n",
       "\n",
       "    .dataframe thead th {\n",
       "        text-align: right;\n",
       "    }\n",
       "</style>\n",
       "<table border=\"1\" class=\"dataframe\">\n",
       "  <thead>\n",
       "    <tr style=\"text-align: right;\">\n",
       "      <th></th>\n",
       "      <th>Id</th>\n",
       "      <th>PID</th>\n",
       "      <th>MS SubClass</th>\n",
       "      <th>MS Zoning</th>\n",
       "      <th>Lot Frontage</th>\n",
       "      <th>Lot Area</th>\n",
       "      <th>Street</th>\n",
       "      <th>Alley</th>\n",
       "      <th>Lot Shape</th>\n",
       "      <th>Land Contour</th>\n",
       "      <th>...</th>\n",
       "      <th>Screen Porch</th>\n",
       "      <th>Pool Area</th>\n",
       "      <th>Pool QC</th>\n",
       "      <th>Fence</th>\n",
       "      <th>Misc Feature</th>\n",
       "      <th>Misc Val</th>\n",
       "      <th>Mo Sold</th>\n",
       "      <th>Yr Sold</th>\n",
       "      <th>Sale Type</th>\n",
       "      <th>SalePrice</th>\n",
       "    </tr>\n",
       "  </thead>\n",
       "  <tbody>\n",
       "    <tr>\n",
       "      <th>0</th>\n",
       "      <td>109</td>\n",
       "      <td>533352170</td>\n",
       "      <td>60</td>\n",
       "      <td>RL</td>\n",
       "      <td>NaN</td>\n",
       "      <td>13517</td>\n",
       "      <td>Pave</td>\n",
       "      <td>NaN</td>\n",
       "      <td>IR1</td>\n",
       "      <td>Lvl</td>\n",
       "      <td>...</td>\n",
       "      <td>0</td>\n",
       "      <td>0</td>\n",
       "      <td>NaN</td>\n",
       "      <td>NaN</td>\n",
       "      <td>NaN</td>\n",
       "      <td>0</td>\n",
       "      <td>3</td>\n",
       "      <td>2010</td>\n",
       "      <td>WD</td>\n",
       "      <td>130500</td>\n",
       "    </tr>\n",
       "    <tr>\n",
       "      <th>1</th>\n",
       "      <td>544</td>\n",
       "      <td>531379050</td>\n",
       "      <td>60</td>\n",
       "      <td>RL</td>\n",
       "      <td>43.0</td>\n",
       "      <td>11492</td>\n",
       "      <td>Pave</td>\n",
       "      <td>NaN</td>\n",
       "      <td>IR1</td>\n",
       "      <td>Lvl</td>\n",
       "      <td>...</td>\n",
       "      <td>0</td>\n",
       "      <td>0</td>\n",
       "      <td>NaN</td>\n",
       "      <td>NaN</td>\n",
       "      <td>NaN</td>\n",
       "      <td>0</td>\n",
       "      <td>4</td>\n",
       "      <td>2009</td>\n",
       "      <td>WD</td>\n",
       "      <td>220000</td>\n",
       "    </tr>\n",
       "    <tr>\n",
       "      <th>2</th>\n",
       "      <td>153</td>\n",
       "      <td>535304180</td>\n",
       "      <td>20</td>\n",
       "      <td>RL</td>\n",
       "      <td>68.0</td>\n",
       "      <td>7922</td>\n",
       "      <td>Pave</td>\n",
       "      <td>NaN</td>\n",
       "      <td>Reg</td>\n",
       "      <td>Lvl</td>\n",
       "      <td>...</td>\n",
       "      <td>0</td>\n",
       "      <td>0</td>\n",
       "      <td>NaN</td>\n",
       "      <td>NaN</td>\n",
       "      <td>NaN</td>\n",
       "      <td>0</td>\n",
       "      <td>1</td>\n",
       "      <td>2010</td>\n",
       "      <td>WD</td>\n",
       "      <td>109000</td>\n",
       "    </tr>\n",
       "    <tr>\n",
       "      <th>3</th>\n",
       "      <td>318</td>\n",
       "      <td>916386060</td>\n",
       "      <td>60</td>\n",
       "      <td>RL</td>\n",
       "      <td>73.0</td>\n",
       "      <td>9802</td>\n",
       "      <td>Pave</td>\n",
       "      <td>NaN</td>\n",
       "      <td>Reg</td>\n",
       "      <td>Lvl</td>\n",
       "      <td>...</td>\n",
       "      <td>0</td>\n",
       "      <td>0</td>\n",
       "      <td>NaN</td>\n",
       "      <td>NaN</td>\n",
       "      <td>NaN</td>\n",
       "      <td>0</td>\n",
       "      <td>4</td>\n",
       "      <td>2010</td>\n",
       "      <td>WD</td>\n",
       "      <td>174000</td>\n",
       "    </tr>\n",
       "    <tr>\n",
       "      <th>4</th>\n",
       "      <td>255</td>\n",
       "      <td>906425045</td>\n",
       "      <td>50</td>\n",
       "      <td>RL</td>\n",
       "      <td>82.0</td>\n",
       "      <td>14235</td>\n",
       "      <td>Pave</td>\n",
       "      <td>NaN</td>\n",
       "      <td>IR1</td>\n",
       "      <td>Lvl</td>\n",
       "      <td>...</td>\n",
       "      <td>0</td>\n",
       "      <td>0</td>\n",
       "      <td>NaN</td>\n",
       "      <td>NaN</td>\n",
       "      <td>NaN</td>\n",
       "      <td>0</td>\n",
       "      <td>3</td>\n",
       "      <td>2010</td>\n",
       "      <td>WD</td>\n",
       "      <td>138500</td>\n",
       "    </tr>\n",
       "  </tbody>\n",
       "</table>\n",
       "<p>5 rows × 81 columns</p>\n",
       "</div>"
      ],
      "text/plain": [
       "    Id        PID  MS SubClass MS Zoning  Lot Frontage  Lot Area Street Alley  \\\n",
       "0  109  533352170           60        RL           NaN     13517   Pave   NaN   \n",
       "1  544  531379050           60        RL          43.0     11492   Pave   NaN   \n",
       "2  153  535304180           20        RL          68.0      7922   Pave   NaN   \n",
       "3  318  916386060           60        RL          73.0      9802   Pave   NaN   \n",
       "4  255  906425045           50        RL          82.0     14235   Pave   NaN   \n",
       "\n",
       "  Lot Shape Land Contour    ...     Screen Porch Pool Area Pool QC Fence  \\\n",
       "0       IR1          Lvl    ...                0         0     NaN   NaN   \n",
       "1       IR1          Lvl    ...                0         0     NaN   NaN   \n",
       "2       Reg          Lvl    ...                0         0     NaN   NaN   \n",
       "3       Reg          Lvl    ...                0         0     NaN   NaN   \n",
       "4       IR1          Lvl    ...                0         0     NaN   NaN   \n",
       "\n",
       "  Misc Feature Misc Val Mo Sold Yr Sold  Sale Type  SalePrice  \n",
       "0          NaN        0       3    2010        WD      130500  \n",
       "1          NaN        0       4    2009        WD      220000  \n",
       "2          NaN        0       1    2010        WD      109000  \n",
       "3          NaN        0       4    2010        WD      174000  \n",
       "4          NaN        0       3    2010        WD      138500  \n",
       "\n",
       "[5 rows x 81 columns]"
      ]
     },
     "execution_count": 3,
     "metadata": {},
     "output_type": "execute_result"
    }
   ],
   "source": [
    "train.head()"
   ]
  },
  {
   "cell_type": "markdown",
   "metadata": {},
   "source": [
    "# Clean the Data\n",
    "### Are there any NaNs? Where? How many?"
   ]
  },
  {
   "cell_type": "code",
   "execution_count": 4,
   "metadata": {
    "scrolled": false
   },
   "outputs": [
    {
     "name": "stdout",
     "output_type": "stream",
     "text": [
      "(2051, 81)\n"
     ]
    },
    {
     "data": {
      "text/plain": [
       "Lot Frontage       330\n",
       "Alley             1911\n",
       "Mas Vnr Type        22\n",
       "Mas Vnr Area        22\n",
       "Bsmt Qual           55\n",
       "Bsmt Cond           55\n",
       "Bsmt Exposure       58\n",
       "BsmtFin Type 1      55\n",
       "BsmtFin SF 1         1\n",
       "BsmtFin Type 2      56\n",
       "BsmtFin SF 2         1\n",
       "Bsmt Unf SF          1\n",
       "Total Bsmt SF        1\n",
       "Bsmt Full Bath       2\n",
       "Bsmt Half Bath       2\n",
       "Fireplace Qu      1000\n",
       "Garage Type        113\n",
       "Garage Yr Blt      114\n",
       "Garage Finish      114\n",
       "Garage Cars          1\n",
       "Garage Area          1\n",
       "Garage Qual        114\n",
       "Garage Cond        114\n",
       "Pool QC           2042\n",
       "Fence             1651\n",
       "Misc Feature      1986\n",
       "dtype: int64"
      ]
     },
     "execution_count": 4,
     "metadata": {},
     "output_type": "execute_result"
    }
   ],
   "source": [
    "print(train.shape)\n",
    "train.isna().sum()[train.isna().sum() !=0]"
   ]
  },
  {
   "cell_type": "code",
   "execution_count": 5,
   "metadata": {},
   "outputs": [],
   "source": [
    "drop_cols = ['Alley', 'Pool QC', 'Misc Feature']\n",
    "train.drop(axis=1, columns=drop_cols, inplace=True)\n",
    "# dropping these columns because they were almost entirely NaNs"
   ]
  },
  {
   "cell_type": "code",
   "execution_count": 6,
   "metadata": {},
   "outputs": [],
   "source": [
    "# Change date values to relative values. This is time sensitive but it will help the model.\n",
    "train['Year Built'] = 2018 - train['Year Built']\n",
    "train['Year Remod/Add'] = 2018 - train['Year Remod/Add']"
   ]
  },
  {
   "cell_type": "code",
   "execution_count": 7,
   "metadata": {},
   "outputs": [],
   "source": [
    "cats = train.select_dtypes(exclude=[np.number])\n",
    "nums = train.select_dtypes(include=[np.number])\n",
    "cat_mask = list(cats.columns)\n",
    "nums_mask = list(nums.columns)\n",
    "# making a mask to separate categorical and numerical data"
   ]
  },
  {
   "cell_type": "code",
   "execution_count": 8,
   "metadata": {},
   "outputs": [
    {
     "data": {
      "text/plain": [
       "['Mas Vnr Type',\n",
       " 'Bsmt Qual',\n",
       " 'Bsmt Cond',\n",
       " 'Bsmt Exposure',\n",
       " 'BsmtFin Type 1',\n",
       " 'BsmtFin Type 2',\n",
       " 'Fireplace Qu',\n",
       " 'Garage Type',\n",
       " 'Garage Finish',\n",
       " 'Garage Qual',\n",
       " 'Garage Cond',\n",
       " 'Fence']"
      ]
     },
     "execution_count": 8,
     "metadata": {},
     "output_type": "execute_result"
    }
   ],
   "source": [
    "cat_nans_mask = list(train[cat_mask].isna().sum()[train.isna().sum() !=0].index)\n",
    "cat_nans_mask\n",
    "# making a mask for categorical columns with NaNs"
   ]
  },
  {
   "cell_type": "code",
   "execution_count": 9,
   "metadata": {},
   "outputs": [
    {
     "data": {
      "text/html": [
       "<div>\n",
       "<style scoped>\n",
       "    .dataframe tbody tr th:only-of-type {\n",
       "        vertical-align: middle;\n",
       "    }\n",
       "\n",
       "    .dataframe tbody tr th {\n",
       "        vertical-align: top;\n",
       "    }\n",
       "\n",
       "    .dataframe thead th {\n",
       "        text-align: right;\n",
       "    }\n",
       "</style>\n",
       "<table border=\"1\" class=\"dataframe\">\n",
       "  <thead>\n",
       "    <tr style=\"text-align: right;\">\n",
       "      <th></th>\n",
       "      <th>Mas Vnr Type</th>\n",
       "      <th>Bsmt Qual</th>\n",
       "      <th>Bsmt Cond</th>\n",
       "      <th>Bsmt Exposure</th>\n",
       "      <th>BsmtFin Type 1</th>\n",
       "      <th>BsmtFin Type 2</th>\n",
       "      <th>Fireplace Qu</th>\n",
       "      <th>Garage Type</th>\n",
       "      <th>Garage Finish</th>\n",
       "      <th>Garage Qual</th>\n",
       "      <th>Garage Cond</th>\n",
       "      <th>Fence</th>\n",
       "    </tr>\n",
       "  </thead>\n",
       "  <tbody>\n",
       "    <tr>\n",
       "      <th>0</th>\n",
       "      <td>BrkFace</td>\n",
       "      <td>TA</td>\n",
       "      <td>TA</td>\n",
       "      <td>No</td>\n",
       "      <td>GLQ</td>\n",
       "      <td>Unf</td>\n",
       "      <td>NaN</td>\n",
       "      <td>Attchd</td>\n",
       "      <td>RFn</td>\n",
       "      <td>TA</td>\n",
       "      <td>TA</td>\n",
       "      <td>NaN</td>\n",
       "    </tr>\n",
       "    <tr>\n",
       "      <th>1</th>\n",
       "      <td>BrkFace</td>\n",
       "      <td>Gd</td>\n",
       "      <td>TA</td>\n",
       "      <td>No</td>\n",
       "      <td>GLQ</td>\n",
       "      <td>Unf</td>\n",
       "      <td>TA</td>\n",
       "      <td>Attchd</td>\n",
       "      <td>RFn</td>\n",
       "      <td>TA</td>\n",
       "      <td>TA</td>\n",
       "      <td>NaN</td>\n",
       "    </tr>\n",
       "    <tr>\n",
       "      <th>2</th>\n",
       "      <td>None</td>\n",
       "      <td>TA</td>\n",
       "      <td>TA</td>\n",
       "      <td>No</td>\n",
       "      <td>GLQ</td>\n",
       "      <td>Unf</td>\n",
       "      <td>NaN</td>\n",
       "      <td>Detchd</td>\n",
       "      <td>Unf</td>\n",
       "      <td>TA</td>\n",
       "      <td>TA</td>\n",
       "      <td>NaN</td>\n",
       "    </tr>\n",
       "    <tr>\n",
       "      <th>3</th>\n",
       "      <td>None</td>\n",
       "      <td>Gd</td>\n",
       "      <td>TA</td>\n",
       "      <td>No</td>\n",
       "      <td>Unf</td>\n",
       "      <td>Unf</td>\n",
       "      <td>NaN</td>\n",
       "      <td>BuiltIn</td>\n",
       "      <td>Fin</td>\n",
       "      <td>TA</td>\n",
       "      <td>TA</td>\n",
       "      <td>NaN</td>\n",
       "    </tr>\n",
       "    <tr>\n",
       "      <th>4</th>\n",
       "      <td>None</td>\n",
       "      <td>Fa</td>\n",
       "      <td>Gd</td>\n",
       "      <td>No</td>\n",
       "      <td>Unf</td>\n",
       "      <td>Unf</td>\n",
       "      <td>NaN</td>\n",
       "      <td>Detchd</td>\n",
       "      <td>Unf</td>\n",
       "      <td>TA</td>\n",
       "      <td>TA</td>\n",
       "      <td>NaN</td>\n",
       "    </tr>\n",
       "  </tbody>\n",
       "</table>\n",
       "</div>"
      ],
      "text/plain": [
       "  Mas Vnr Type Bsmt Qual Bsmt Cond Bsmt Exposure BsmtFin Type 1  \\\n",
       "0      BrkFace        TA        TA            No            GLQ   \n",
       "1      BrkFace        Gd        TA            No            GLQ   \n",
       "2         None        TA        TA            No            GLQ   \n",
       "3         None        Gd        TA            No            Unf   \n",
       "4         None        Fa        Gd            No            Unf   \n",
       "\n",
       "  BsmtFin Type 2 Fireplace Qu Garage Type Garage Finish Garage Qual  \\\n",
       "0            Unf          NaN      Attchd           RFn          TA   \n",
       "1            Unf           TA      Attchd           RFn          TA   \n",
       "2            Unf          NaN      Detchd           Unf          TA   \n",
       "3            Unf          NaN     BuiltIn           Fin          TA   \n",
       "4            Unf          NaN      Detchd           Unf          TA   \n",
       "\n",
       "  Garage Cond Fence  \n",
       "0          TA   NaN  \n",
       "1          TA   NaN  \n",
       "2          TA   NaN  \n",
       "3          TA   NaN  \n",
       "4          TA   NaN  "
      ]
     },
     "execution_count": 9,
     "metadata": {},
     "output_type": "execute_result"
    }
   ],
   "source": [
    "train[cat_nans_mask].head()\n",
    "# Visualizing how to replace NaNs in categorical columns"
   ]
  },
  {
   "cell_type": "code",
   "execution_count": 10,
   "metadata": {},
   "outputs": [
    {
     "name": "stdout",
     "output_type": "stream",
     "text": [
      "Mas Vnr Type ['BrkFace' 'None' nan 'Stone' 'BrkCmn']\n",
      "Bsmt Qual ['TA' 'Gd' 'Fa' nan 'Ex' 'Po']\n",
      "Bsmt Cond ['TA' 'Gd' nan 'Fa' 'Po' 'Ex']\n",
      "Bsmt Exposure ['No' 'Gd' 'Av' nan 'Mn']\n",
      "BsmtFin Type 1 ['GLQ' 'Unf' 'ALQ' 'Rec' nan 'BLQ' 'LwQ']\n",
      "BsmtFin Type 2 ['Unf' 'Rec' nan 'BLQ' 'GLQ' 'LwQ' 'ALQ']\n",
      "Fireplace Qu [nan 'TA' 'Gd' 'Po' 'Ex' 'Fa']\n",
      "Garage Type ['Attchd' 'Detchd' 'BuiltIn' 'Basment' nan '2Types' 'CarPort']\n",
      "Garage Finish ['RFn' 'Unf' 'Fin' nan]\n",
      "Garage Qual ['TA' 'Fa' nan 'Gd' 'Ex' 'Po']\n",
      "Garage Cond ['TA' 'Fa' nan 'Po' 'Gd' 'Ex']\n",
      "Fence [nan 'MnPrv' 'GdPrv' 'GdWo' 'MnWw']\n"
     ]
    }
   ],
   "source": [
    "for col in train[cat_nans_mask]:\n",
    "    print(col, train[cat_nans_mask][col].unique())\n",
    "# I wanted to see how many categories there were for each of these"
   ]
  },
  {
   "cell_type": "markdown",
   "metadata": {},
   "source": [
    "### Fill in NaNs\n",
    "- I dropped three columns because they were almost entirely NaNs above.\n",
    "- I filled in missing values in numerical columns with the mean of the column and filled in missing values in categotical columns with the most common value of that column.  Looking at the categorical columns, most of them had an overwhelming mode."
   ]
  },
  {
   "cell_type": "code",
   "execution_count": 11,
   "metadata": {},
   "outputs": [],
   "source": [
    "imp = Imputer(axis=1)\n",
    "numerical_cols = imp.fit_transform(train[nums_mask])\n",
    "numerical_cols = imp.transform(train[nums_mask])\n",
    "# Replaces NaNs with mean for numerical columns"
   ]
  },
  {
   "cell_type": "code",
   "execution_count": 12,
   "metadata": {},
   "outputs": [],
   "source": [
    "numerical_cols = pd.DataFrame(numerical_cols, columns=nums_mask)"
   ]
  },
  {
   "cell_type": "code",
   "execution_count": 13,
   "metadata": {},
   "outputs": [
    {
     "data": {
      "text/plain": [
       "0"
      ]
     },
     "execution_count": 13,
     "metadata": {},
     "output_type": "execute_result"
    }
   ],
   "source": [
    "numerical_cols.isna().sum().sum()"
   ]
  },
  {
   "cell_type": "code",
   "execution_count": 14,
   "metadata": {},
   "outputs": [],
   "source": [
    "cat_cols = train[cat_mask]"
   ]
  },
  {
   "cell_type": "code",
   "execution_count": 15,
   "metadata": {},
   "outputs": [
    {
     "name": "stderr",
     "output_type": "stream",
     "text": [
      "/anaconda3/envs/dsi/lib/python3.6/site-packages/pandas/core/generic.py:4355: SettingWithCopyWarning: \n",
      "A value is trying to be set on a copy of a slice from a DataFrame\n",
      "\n",
      "See the caveats in the documentation: http://pandas.pydata.org/pandas-docs/stable/indexing.html#indexing-view-versus-copy\n",
      "  self._update_inplace(new_data)\n"
     ]
    }
   ],
   "source": [
    "for col in cat_cols:\n",
    "    cat_cols[col].fillna(cat_cols[col].value_counts().index[0], inplace=True)\n",
    "# replacing NaNs with the categorical mode for each categorical column\n",
    "# most categorical columns had one overwhelming mode"
   ]
  },
  {
   "cell_type": "code",
   "execution_count": 16,
   "metadata": {},
   "outputs": [
    {
     "data": {
      "text/plain": [
       "0"
      ]
     },
     "execution_count": 16,
     "metadata": {},
     "output_type": "execute_result"
    }
   ],
   "source": [
    "cat_cols.isna().sum().sum()"
   ]
  },
  {
   "cell_type": "markdown",
   "metadata": {},
   "source": [
    "##### Rejoin the categorical columns and numerical columns."
   ]
  },
  {
   "cell_type": "code",
   "execution_count": 17,
   "metadata": {},
   "outputs": [
    {
     "data": {
      "text/plain": [
       "(2051, 78)"
      ]
     },
     "execution_count": 17,
     "metadata": {},
     "output_type": "execute_result"
    }
   ],
   "source": [
    "train = pd.concat([cat_cols,numerical_cols], axis=1)\n",
    "train.shape\n",
    "# Shape matches original before split and concat."
   ]
  },
  {
   "cell_type": "code",
   "execution_count": 18,
   "metadata": {},
   "outputs": [
    {
     "data": {
      "text/plain": [
       "0"
      ]
     },
     "execution_count": 18,
     "metadata": {},
     "output_type": "execute_result"
    }
   ],
   "source": [
    "train.isna().sum().sum()"
   ]
  },
  {
   "cell_type": "code",
   "execution_count": 19,
   "metadata": {
    "scrolled": true
   },
   "outputs": [],
   "source": [
    "train.drop(columns=['Id','PID'],axis=1, inplace=True)\n",
    "# We don't need these ID numbers as they are not ordinal. They will just muddy up our model."
   ]
  },
  {
   "cell_type": "markdown",
   "metadata": {},
   "source": [
    "## Feature Engineering"
   ]
  },
  {
   "cell_type": "code",
   "execution_count": 20,
   "metadata": {},
   "outputs": [
    {
     "data": {
      "text/plain": [
       "(2051, 279)"
      ]
     },
     "execution_count": 20,
     "metadata": {},
     "output_type": "execute_result"
    }
   ],
   "source": [
    "# Make dummy columns for categorical columns.\n",
    "dummies = pd.get_dummies(train[cat_mask], drop_first=True)\n",
    "full_train = pd.concat([train, dummies], axis=1)\n",
    "full_train.shape"
   ]
  },
  {
   "cell_type": "code",
   "execution_count": 21,
   "metadata": {},
   "outputs": [
    {
     "data": {
      "text/plain": [
       "(2051, 240)"
      ]
     },
     "execution_count": 21,
     "metadata": {},
     "output_type": "execute_result"
    }
   ],
   "source": [
    "# Get rid of the original categorical columns.\n",
    "full_train.drop(columns=cat_mask, axis=1, inplace=True)\n",
    "full_train.shape"
   ]
  },
  {
   "cell_type": "markdown",
   "metadata": {},
   "source": [
    "## Test Train Split"
   ]
  },
  {
   "cell_type": "code",
   "execution_count": 22,
   "metadata": {},
   "outputs": [],
   "source": [
    "# Let's TTS\n",
    "feature_cols = [col for col in full_train.columns if col !='SalePrice']\n",
    "X = full_train[feature_cols]\n",
    "y = full_train['SalePrice']"
   ]
  },
  {
   "cell_type": "code",
   "execution_count": 23,
   "metadata": {},
   "outputs": [
    {
     "name": "stdout",
     "output_type": "stream",
     "text": [
      "(1640, 239) (1640,)\n",
      "(411, 239) (411,)\n"
     ]
    }
   ],
   "source": [
    "X_train, X_test, y_train, y_test = train_test_split(X, y, test_size=0.2, random_state=42)\n",
    "print(X_train.shape, y_train.shape)\n",
    "print(X_test.shape, y_test.shape)"
   ]
  },
  {
   "cell_type": "code",
   "execution_count": 24,
   "metadata": {},
   "outputs": [],
   "source": [
    "Xcols = list(X_train.columns)"
   ]
  },
  {
   "cell_type": "markdown",
   "metadata": {},
   "source": [
    "### Scale the Data\n",
    "(Feature Engineering, Continued)"
   ]
  },
  {
   "cell_type": "code",
   "execution_count": 25,
   "metadata": {},
   "outputs": [],
   "source": [
    "# Scale X Train\n",
    "ss = StandardScaler()\n",
    "ss.fit(X_train)\n",
    "X_train = ss.transform(X_train)"
   ]
  },
  {
   "cell_type": "code",
   "execution_count": 26,
   "metadata": {},
   "outputs": [],
   "source": [
    "# Scale X Test\n",
    "ss = StandardScaler()\n",
    "ss.fit(X_test)\n",
    "X_test = ss.transform(X_test)"
   ]
  },
  {
   "cell_type": "markdown",
   "metadata": {},
   "source": [
    "### Feature Selection\n",
    "- I used Lasso initially to find the biggest ten coefficients, ran PolynomialFeatures on them, and then ran Lasso on that."
   ]
  },
  {
   "cell_type": "code",
   "execution_count": 27,
   "metadata": {},
   "outputs": [],
   "source": [
    "X_test = pd.DataFrame(data=X_test, columns=Xcols)\n",
    "X_train = pd.DataFrame(data=X_train, columns=Xcols)"
   ]
  },
  {
   "cell_type": "code",
   "execution_count": 28,
   "metadata": {},
   "outputs": [
    {
     "data": {
      "text/plain": [
       "LassoCV(alphas=None, copy_X=True, cv=10, eps=0.001, fit_intercept=True,\n",
       "    max_iter=1000, n_alphas=500, n_jobs=1, normalize=False, positive=False,\n",
       "    precompute='auto', random_state=None, selection='cyclic', tol=0.0001,\n",
       "    verbose=False)"
      ]
     },
     "execution_count": 28,
     "metadata": {},
     "output_type": "execute_result"
    }
   ],
   "source": [
    "opt_lasso = LassoCV(n_alphas=500, cv=10)\n",
    "opt_lasso.fit(X_train, y_train)"
   ]
  },
  {
   "cell_type": "code",
   "execution_count": 29,
   "metadata": {},
   "outputs": [
    {
     "name": "stdout",
     "output_type": "stream",
     "text": [
      "[0.11369192 0.05790766 0.08708682 0.11539319 0.10243234 0.06335296\n",
      " 0.11494424 0.09696049 0.07977338 0.13083558]\n",
      "0.09623786000708608\n"
     ]
    }
   ],
   "source": [
    "lasso = LassoCV(n_alphas=100, cv=10)\n",
    "lasso.fit(X_train, y_train)\n",
    "lasso_scores = cross_val_score(lasso, X, y, cv=10)\n",
    "\n",
    "print(lasso_scores)\n",
    "print(np.mean(lasso_scores))"
   ]
  },
  {
   "cell_type": "code",
   "execution_count": 30,
   "metadata": {},
   "outputs": [
    {
     "data": {
      "text/html": [
       "<div>\n",
       "<style scoped>\n",
       "    .dataframe tbody tr th:only-of-type {\n",
       "        vertical-align: middle;\n",
       "    }\n",
       "\n",
       "    .dataframe tbody tr th {\n",
       "        vertical-align: top;\n",
       "    }\n",
       "\n",
       "    .dataframe thead th {\n",
       "        text-align: right;\n",
       "    }\n",
       "</style>\n",
       "<table border=\"1\" class=\"dataframe\">\n",
       "  <thead>\n",
       "    <tr style=\"text-align: right;\">\n",
       "      <th></th>\n",
       "      <th>abs_coef</th>\n",
       "      <th>coef</th>\n",
       "      <th>variable</th>\n",
       "    </tr>\n",
       "  </thead>\n",
       "  <tbody>\n",
       "    <tr>\n",
       "      <th>15</th>\n",
       "      <td>19288.499129</td>\n",
       "      <td>19288.499129</td>\n",
       "      <td>Gr Liv Area</td>\n",
       "    </tr>\n",
       "    <tr>\n",
       "      <th>3</th>\n",
       "      <td>14324.895927</td>\n",
       "      <td>14324.895927</td>\n",
       "      <td>Overall Qual</td>\n",
       "    </tr>\n",
       "    <tr>\n",
       "      <th>115</th>\n",
       "      <td>10864.213367</td>\n",
       "      <td>10864.213367</td>\n",
       "      <td>Roof Matl_CompShg</td>\n",
       "    </tr>\n",
       "    <tr>\n",
       "      <th>153</th>\n",
       "      <td>10068.528391</td>\n",
       "      <td>-10068.528391</td>\n",
       "      <td>Exter Qual_TA</td>\n",
       "    </tr>\n",
       "    <tr>\n",
       "      <th>75</th>\n",
       "      <td>9849.815613</td>\n",
       "      <td>9849.815613</td>\n",
       "      <td>Neighborhood_NridgHt</td>\n",
       "    </tr>\n",
       "    <tr>\n",
       "      <th>199</th>\n",
       "      <td>8781.847169</td>\n",
       "      <td>-8781.847169</td>\n",
       "      <td>Kitchen Qual_TA</td>\n",
       "    </tr>\n",
       "    <tr>\n",
       "      <th>152</th>\n",
       "      <td>8202.189732</td>\n",
       "      <td>-8202.189732</td>\n",
       "      <td>Exter Qual_Gd</td>\n",
       "    </tr>\n",
       "    <tr>\n",
       "      <th>198</th>\n",
       "      <td>7747.772376</td>\n",
       "      <td>-7747.772376</td>\n",
       "      <td>Kitchen Qual_Gd</td>\n",
       "    </tr>\n",
       "    <tr>\n",
       "      <th>81</th>\n",
       "      <td>7136.796409</td>\n",
       "      <td>7136.796409</td>\n",
       "      <td>Neighborhood_StoneBr</td>\n",
       "    </tr>\n",
       "    <tr>\n",
       "      <th>117</th>\n",
       "      <td>7065.016241</td>\n",
       "      <td>7065.016241</td>\n",
       "      <td>Roof Matl_Tar&amp;Grv</td>\n",
       "    </tr>\n",
       "    <tr>\n",
       "      <th>119</th>\n",
       "      <td>6919.552382</td>\n",
       "      <td>6919.552382</td>\n",
       "      <td>Roof Matl_WdShngl</td>\n",
       "    </tr>\n",
       "    <tr>\n",
       "      <th>5</th>\n",
       "      <td>6908.026325</td>\n",
       "      <td>-6908.026325</td>\n",
       "      <td>Year Built</td>\n",
       "    </tr>\n",
       "    <tr>\n",
       "      <th>164</th>\n",
       "      <td>5980.771638</td>\n",
       "      <td>-5980.771638</td>\n",
       "      <td>Bsmt Qual_Gd</td>\n",
       "    </tr>\n",
       "    <tr>\n",
       "      <th>74</th>\n",
       "      <td>5958.515873</td>\n",
       "      <td>5958.515873</td>\n",
       "      <td>Neighborhood_NoRidge</td>\n",
       "    </tr>\n",
       "    <tr>\n",
       "      <th>166</th>\n",
       "      <td>5467.374692</td>\n",
       "      <td>-5467.374692</td>\n",
       "      <td>Bsmt Qual_TA</td>\n",
       "    </tr>\n",
       "  </tbody>\n",
       "</table>\n",
       "</div>"
      ],
      "text/plain": [
       "         abs_coef          coef              variable\n",
       "15   19288.499129  19288.499129           Gr Liv Area\n",
       "3    14324.895927  14324.895927          Overall Qual\n",
       "115  10864.213367  10864.213367     Roof Matl_CompShg\n",
       "153  10068.528391 -10068.528391         Exter Qual_TA\n",
       "75    9849.815613   9849.815613  Neighborhood_NridgHt\n",
       "199   8781.847169  -8781.847169       Kitchen Qual_TA\n",
       "152   8202.189732  -8202.189732         Exter Qual_Gd\n",
       "198   7747.772376  -7747.772376       Kitchen Qual_Gd\n",
       "81    7136.796409   7136.796409  Neighborhood_StoneBr\n",
       "117   7065.016241   7065.016241     Roof Matl_Tar&Grv\n",
       "119   6919.552382   6919.552382     Roof Matl_WdShngl\n",
       "5     6908.026325  -6908.026325            Year Built\n",
       "164   5980.771638  -5980.771638          Bsmt Qual_Gd\n",
       "74    5958.515873   5958.515873  Neighborhood_NoRidge\n",
       "166   5467.374692  -5467.374692          Bsmt Qual_TA"
      ]
     },
     "execution_count": 30,
     "metadata": {},
     "output_type": "execute_result"
    }
   ],
   "source": [
    "l_coefs = pd.DataFrame({'variable':X_train.columns,\n",
    "                            'coef':lasso.coef_,\n",
    "                            'abs_coef':np.abs(lasso.coef_)})\n",
    "\n",
    "l_coefs.sort_values('abs_coef', inplace=True, ascending=False)\n",
    "l_coefs.head(15)"
   ]
  },
  {
   "cell_type": "code",
   "execution_count": 31,
   "metadata": {},
   "outputs": [],
   "source": [
    "top_ten_lasso = list(l_coefs.variable[:10])"
   ]
  },
  {
   "cell_type": "code",
   "execution_count": 32,
   "metadata": {},
   "outputs": [],
   "source": [
    "# top_ten_lasso = ['Gr Liv Area','Overall Qual','Roof Matl_CompShg','Exter Qual_TA','Neighborhood_NridgHt','Kitchen Qual_TA','Exter Qual_Gd','Kitchen Qual_Gd','Neighborhood_StoneBr','Roof Matl_Tar&Grv']"
   ]
  },
  {
   "cell_type": "code",
   "execution_count": 33,
   "metadata": {},
   "outputs": [
    {
     "data": {
      "text/html": [
       "<div>\n",
       "<style scoped>\n",
       "    .dataframe tbody tr th:only-of-type {\n",
       "        vertical-align: middle;\n",
       "    }\n",
       "\n",
       "    .dataframe tbody tr th {\n",
       "        vertical-align: top;\n",
       "    }\n",
       "\n",
       "    .dataframe thead th {\n",
       "        text-align: right;\n",
       "    }\n",
       "</style>\n",
       "<table border=\"1\" class=\"dataframe\">\n",
       "  <thead>\n",
       "    <tr style=\"text-align: right;\">\n",
       "      <th></th>\n",
       "      <th>Gr Liv Area</th>\n",
       "      <th>Overall Qual</th>\n",
       "      <th>Roof Matl_CompShg</th>\n",
       "      <th>Exter Qual_TA</th>\n",
       "      <th>Neighborhood_NridgHt</th>\n",
       "      <th>Kitchen Qual_TA</th>\n",
       "      <th>Exter Qual_Gd</th>\n",
       "      <th>Kitchen Qual_Gd</th>\n",
       "      <th>Neighborhood_StoneBr</th>\n",
       "      <th>Roof Matl_Tar&amp;Grv</th>\n",
       "    </tr>\n",
       "  </thead>\n",
       "  <tbody>\n",
       "    <tr>\n",
       "      <th>0</th>\n",
       "      <td>-0.279707</td>\n",
       "      <td>-0.081747</td>\n",
       "      <td>0.116606</td>\n",
       "      <td>-1.242029</td>\n",
       "      <td>4.010403</td>\n",
       "      <td>-1.009804</td>\n",
       "      <td>1.384973</td>\n",
       "      <td>1.226302</td>\n",
       "      <td>-0.136505</td>\n",
       "      <td>-0.089388</td>\n",
       "    </tr>\n",
       "    <tr>\n",
       "      <th>1</th>\n",
       "      <td>0.936761</td>\n",
       "      <td>1.322072</td>\n",
       "      <td>0.116606</td>\n",
       "      <td>-1.242029</td>\n",
       "      <td>4.010403</td>\n",
       "      <td>-1.009804</td>\n",
       "      <td>1.384973</td>\n",
       "      <td>1.226302</td>\n",
       "      <td>-0.136505</td>\n",
       "      <td>-0.089388</td>\n",
       "    </tr>\n",
       "    <tr>\n",
       "      <th>2</th>\n",
       "      <td>-0.283663</td>\n",
       "      <td>-0.081747</td>\n",
       "      <td>0.116606</td>\n",
       "      <td>0.805134</td>\n",
       "      <td>-0.249351</td>\n",
       "      <td>0.990291</td>\n",
       "      <td>-0.722036</td>\n",
       "      <td>-0.815460</td>\n",
       "      <td>-0.136505</td>\n",
       "      <td>-0.089388</td>\n",
       "    </tr>\n",
       "    <tr>\n",
       "      <th>3</th>\n",
       "      <td>1.510380</td>\n",
       "      <td>1.322072</td>\n",
       "      <td>0.116606</td>\n",
       "      <td>-1.242029</td>\n",
       "      <td>-0.249351</td>\n",
       "      <td>-1.009804</td>\n",
       "      <td>1.384973</td>\n",
       "      <td>1.226302</td>\n",
       "      <td>-0.136505</td>\n",
       "      <td>-0.089388</td>\n",
       "    </tr>\n",
       "    <tr>\n",
       "      <th>4</th>\n",
       "      <td>0.703357</td>\n",
       "      <td>-0.081747</td>\n",
       "      <td>0.116606</td>\n",
       "      <td>-1.242029</td>\n",
       "      <td>-0.249351</td>\n",
       "      <td>0.990291</td>\n",
       "      <td>1.384973</td>\n",
       "      <td>-0.815460</td>\n",
       "      <td>-0.136505</td>\n",
       "      <td>-0.089388</td>\n",
       "    </tr>\n",
       "  </tbody>\n",
       "</table>\n",
       "</div>"
      ],
      "text/plain": [
       "   Gr Liv Area  Overall Qual  Roof Matl_CompShg  Exter Qual_TA  \\\n",
       "0    -0.279707     -0.081747           0.116606      -1.242029   \n",
       "1     0.936761      1.322072           0.116606      -1.242029   \n",
       "2    -0.283663     -0.081747           0.116606       0.805134   \n",
       "3     1.510380      1.322072           0.116606      -1.242029   \n",
       "4     0.703357     -0.081747           0.116606      -1.242029   \n",
       "\n",
       "   Neighborhood_NridgHt  Kitchen Qual_TA  Exter Qual_Gd  Kitchen Qual_Gd  \\\n",
       "0              4.010403        -1.009804       1.384973         1.226302   \n",
       "1              4.010403        -1.009804       1.384973         1.226302   \n",
       "2             -0.249351         0.990291      -0.722036        -0.815460   \n",
       "3             -0.249351        -1.009804       1.384973         1.226302   \n",
       "4             -0.249351         0.990291       1.384973        -0.815460   \n",
       "\n",
       "   Neighborhood_StoneBr  Roof Matl_Tar&Grv  \n",
       "0             -0.136505          -0.089388  \n",
       "1             -0.136505          -0.089388  \n",
       "2             -0.136505          -0.089388  \n",
       "3             -0.136505          -0.089388  \n",
       "4             -0.136505          -0.089388  "
      ]
     },
     "execution_count": 33,
     "metadata": {},
     "output_type": "execute_result"
    }
   ],
   "source": [
    "X_train_ten = X_train[top_ten_lasso]\n",
    "X_test_ten = X_test[top_ten_lasso]\n",
    "X_train_ten.head()\n",
    "# Let's try just using these variables"
   ]
  },
  {
   "cell_type": "markdown",
   "metadata": {},
   "source": [
    "### More Feature Engineering\n",
    "- I ran PolynomialFeatures on the ten columns with the biggest coefficients from Lasso to generate interactions and more features, bringing the amount of features from 10 to 55."
   ]
  },
  {
   "cell_type": "code",
   "execution_count": 34,
   "metadata": {},
   "outputs": [],
   "source": [
    "poly = PolynomialFeatures(interaction_only=True, include_bias=False)\n",
    "\n",
    "X_train_poly = poly.fit_transform(X_train_ten, y_train)\n",
    "X_test_poly = poly.fit_transform(X_test_ten, y_test)"
   ]
  },
  {
   "cell_type": "code",
   "execution_count": 83,
   "metadata": {},
   "outputs": [],
   "source": [
    "ss = StandardScaler()\n",
    "ss.fit(X_train_poly)\n",
    "X_train_poly = ss.transform(X_train_poly)"
   ]
  },
  {
   "cell_type": "code",
   "execution_count": 84,
   "metadata": {},
   "outputs": [],
   "source": [
    "ss = StandardScaler()\n",
    "ss.fit(X_test_poly)\n",
    "X_test_poly = ss.transform(X_test_poly)"
   ]
  },
  {
   "cell_type": "markdown",
   "metadata": {},
   "source": [
    "## Model\n",
    "- Lasso will help clean up any colinearity or overfitting that has resulted from the PolynomialFeatures, but this acts as kind of a double filter because I used this to select the features in the first place."
   ]
  },
  {
   "cell_type": "code",
   "execution_count": 85,
   "metadata": {},
   "outputs": [
    {
     "data": {
      "text/plain": [
       "0.838918280626909"
      ]
     },
     "execution_count": 85,
     "metadata": {},
     "output_type": "execute_result"
    }
   ],
   "source": [
    "lasso = LassoCV(n_alphas=100,  cv=10)\n",
    "lasso.fit(X_train_poly, y_train)\n",
    "lasso.score(X_train_poly, y_train)"
   ]
  },
  {
   "cell_type": "code",
   "execution_count": 86,
   "metadata": {},
   "outputs": [
    {
     "data": {
      "text/plain": [
       "0.8168833753624594"
      ]
     },
     "execution_count": 86,
     "metadata": {},
     "output_type": "execute_result"
    }
   ],
   "source": [
    "lasso.score(X_test_poly, y_test)"
   ]
  },
  {
   "cell_type": "code",
   "execution_count": 96,
   "metadata": {},
   "outputs": [],
   "source": [
    "plot_predictions = lasso.predict(X_test_poly)"
   ]
  },
  {
   "cell_type": "code",
   "execution_count": 115,
   "metadata": {
    "scrolled": false
   },
   "outputs": [
    {
     "data": {
      "image/png": "[encoded data removed]",
      "text/plain": [
       "<Figure size 720x576 with 1 Axes>"
      ]
     },
     "metadata": {},
     "output_type": "display_data"
    }
   ],
   "source": [
    "plt.figure(figsize=(10,8))\n",
    "fig = sns.regplot(plot_predictions, y_test)\n",
    "sns.set(font_scale=2, font='Verdana')\n",
    "fig.set_title('Predicted Price vs Y Test Prices')\n",
    "fig.set_xlabel('Predicted Sale Price')\n",
    "fig.set_ylabel('Y Test Sale Price');"
   ]
  },
  {
   "cell_type": "markdown",
   "metadata": {},
   "source": [
    "### Load in Test Data\n",
    "Below I run everything I ran on the train data on the actual test data from which I make the actual predictions. "
   ]
  },
  {
   "cell_type": "code",
   "execution_count": 87,
   "metadata": {
    "scrolled": false
   },
   "outputs": [
    {
     "name": "stderr",
     "output_type": "stream",
     "text": [
      "/anaconda3/envs/dsi/lib/python3.6/site-packages/pandas/core/generic.py:4355: SettingWithCopyWarning: \n",
      "A value is trying to be set on a copy of a slice from a DataFrame\n",
      "\n",
      "See the caveats in the documentation: http://pandas.pydata.org/pandas-docs/stable/indexing.html#indexing-view-versus-copy\n",
      "  self._update_inplace(new_data)\n"
     ]
    }
   ],
   "source": [
    "test = pd.read_csv('./test.csv')\n",
    "\n",
    "drop_cols = ['Alley', 'Pool QC', 'Misc Feature']\n",
    "test.drop(axis=1, columns=drop_cols, inplace=True)\n",
    "\n",
    "test['Year Built'] = 2018 - test['Year Built']\n",
    "test['Year Remod/Add'] = 2018 - test['Year Remod/Add']\n",
    "\n",
    "tst_cats = test.select_dtypes(exclude=[np.number])\n",
    "tst_nums = test.select_dtypes(include=[np.number])\n",
    "tst_cat_mask = list(tst_cats.columns)\n",
    "tst_nums_mask = list(tst_nums.columns)\n",
    "\n",
    "tst_cat_nans_mask = list(test[tst_cat_mask].isna().sum()[test.isna().sum() !=0].index)\n",
    "\n",
    "imp = Imputer(axis=1)\n",
    "tst_numerical_cols = imp.fit_transform(test[tst_nums_mask])\n",
    "tst_numerical_cols = imp.transform(test[tst_nums_mask])\n",
    "\n",
    "tst_numerical_cols = pd.DataFrame(tst_numerical_cols, columns=tst_nums_mask)\n",
    "\n",
    "tst_cat_cols = test[tst_cat_mask]\n",
    "\n",
    "for col in tst_cat_cols:\n",
    "    tst_cat_cols[col].fillna(tst_cat_cols[col].value_counts().index[0], inplace=True)\n",
    "\n",
    "test = pd.concat([tst_cat_cols,tst_numerical_cols], axis=1)\n",
    "\n",
    "test.drop(columns=['Id','PID'],axis=1, inplace=True)\n",
    "\n",
    "tst_dummies = pd.get_dummies(test[tst_cat_mask], drop_first=True)\n",
    "full_test = pd.concat([test, tst_dummies], axis=1)\n",
    "\n",
    "full_test.drop(columns=tst_cat_mask, axis=1, inplace=True)\n",
    "\n",
    "test_cols = list(full_test.columns)\n",
    "\n",
    "ss = StandardScaler()\n",
    "ss.fit(full_test)\n",
    "full_test = ss.transform(full_test)\n",
    "\n",
    "full_test = pd.DataFrame(data=full_test, columns=test_cols)"
   ]
  },
  {
   "cell_type": "code",
   "execution_count": 88,
   "metadata": {},
   "outputs": [],
   "source": [
    "full_test['Roof Matl_CompShg'] = 0\n",
    "# This was not in the test data."
   ]
  },
  {
   "cell_type": "code",
   "execution_count": 89,
   "metadata": {},
   "outputs": [],
   "source": [
    "top_ten_lasso = ['Gr Liv Area','Overall Qual','Roof Matl_CompShg','Exter Qual_TA','Neighborhood_NridgHt','Kitchen Qual_TA','Exter Qual_Gd','Kitchen Qual_Gd','Neighborhood_StoneBr','Roof Matl_Tar&Grv']\n",
    "\n",
    "full_test_ten = full_test[top_ten_lasso]"
   ]
  },
  {
   "cell_type": "code",
   "execution_count": 90,
   "metadata": {},
   "outputs": [],
   "source": [
    "poly = PolynomialFeatures(interaction_only=True, include_bias=False)\n",
    "\n",
    "full_test_poly = poly.fit_transform(full_test_ten)"
   ]
  },
  {
   "cell_type": "code",
   "execution_count": 91,
   "metadata": {},
   "outputs": [],
   "source": [
    "prediction = lasso.predict(full_test_poly)"
   ]
  },
  {
   "cell_type": "code",
   "execution_count": 92,
   "metadata": {},
   "outputs": [],
   "source": [
    "test2 = pd.read_csv('./test.csv')"
   ]
  },
  {
   "cell_type": "code",
   "execution_count": 93,
   "metadata": {},
   "outputs": [],
   "source": [
    "submission = pd.DataFrame(data = prediction, index=test2['Id'], columns = ['SalePrice'])\n",
    "submission.to_csv('./confoley_submission.csv')"
   ]
  }
 ],
 "metadata": {
  "kernelspec": {
   "display_name": "Python [conda env:dsi]",
   "language": "python",
   "name": "conda-env-dsi-py"
  },
  "language_info": {
   "codemirror_mode": {
    "name": "ipython",
    "version": 3
   },
   "file_extension": ".py",
   "mimetype": "text/x-python",
   "name": "python",
   "nbconvert_exporter": "python",
   "pygments_lexer": "ipython3",
   "version": "3.6.5"
  }
 },
 "nbformat": 4,
 "nbformat_minor": 2
}
